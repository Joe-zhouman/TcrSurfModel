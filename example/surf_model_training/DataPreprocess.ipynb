{
 "cells": [
  {
   "cell_type": "code",
   "execution_count": 2,
   "metadata": {},
   "outputs": [],
   "source": [
    "import pandas as pd\n",
    "from os import path"
   ]
  },
  {
   "cell_type": "code",
   "execution_count": 6,
   "metadata": {},
   "outputs": [],
   "source": [
    "root_path = \"/hy-tmp/\"\n",
    "\n",
    "train_file = path.join(root_path, \"train\",\"Data.csv\")\n",
    "# val_file = path.join(root_path, \"val\",\"Data.csv\")\n",
    "test_file = path.join(root_path, \"test\",\"Data.csv\")\n",
    "\n",
    "train_df = pd.read_csv(train_file, header=None)\n",
    "test_df = pd.read_csv(test_file,header=None)\n"
   ]
  },
  {
   "cell_type": "code",
   "execution_count": 7,
   "metadata": {},
   "outputs": [],
   "source": [
    "\n",
    "train_df.loc[:,8] = \"train\"\n",
    "test_df.loc[:,8] = \"test\"\n",
    "\n",
    "df = pd.concat(\n",
    "    [\n",
    "        train_df,\n",
    "        test_df\n",
    "    ],\n",
    "    ignore_index=True,\n",
    ")\n"
   ]
  },
  {
   "cell_type": "code",
   "execution_count": 8,
   "metadata": {},
   "outputs": [],
   "source": [
    "df_1 = df.loc[(df.loc[:, 7] < 2000) ]"
   ]
  },
  {
   "cell_type": "code",
   "execution_count": 10,
   "metadata": {},
   "outputs": [],
   "source": [
    "import numpy as np\n",
    "\n",
    "df_2 = df_1.copy()\n",
    "df_2.iloc[:, 3] = np.log(df_1.iloc[:, 3])  # -25,-9\n",
    "df_2.iloc[:, 4] = np.log(df_1.iloc[:, 4])  # -25,-9\n",
    "# 1e6, 1.1e7\n",
    "df_2.iloc[:, 6] = np.log(df_1.iloc[:, 6])  # -11,-2\n",
    "df_2.iloc[:, 7] = np.log(df_1.iloc[:, 7])  # 0,24"
   ]
  },
  {
   "cell_type": "code",
   "execution_count": 12,
   "metadata": {},
   "outputs": [],
   "source": [
    "### ! 注意所有范围都要修改\n",
    "bound = [[-22.5, -19.5], [-22.5, -19.5], [1e6, 1e7], [-9.8, -4.8], [2, 7.65]]\n",
    "df_3 = df_2.copy()\n",
    "for i in range(5):\n",
    "    df_3.iloc[:, i + 3] = (df_2.iloc[:, i + 3] - bound[i][0]) / (\n",
    "        bound[i][1] - bound[i][0]\n",
    "    )"
   ]
  },
  {
   "cell_type": "code",
   "execution_count": 13,
   "metadata": {},
   "outputs": [],
   "source": [
    "train_df = df_3.loc[df_3.iloc[:, 8] == \"train\", :]\n",
    "# val_df = df_3.loc[df_3.iloc[:, 7] == \"val\", :]\n",
    "test_df = df_3.loc[df_3.iloc[:, 8] == \"test\", :]\n",
    "train_df = train_df.drop(columns=8)\n",
    "# val_df = val_df.drop(columns=7)\n",
    "test_df = test_df.drop(columns=8)\n",
    "\n",
    "for dname in [\"train\",\"test\"]:\n",
    "    train_df.to_csv(\n",
    "        path.join(root_path, dname,\"DataNormilized.csv\"), header=None, index=False\n",
    "    )\n",
    "    # val_df.to_csv(\n",
    "    #     path.join(root_path, dname,\"DataNormilized.csv\"), header=None, index=False\n",
    "    # )\n",
    "    test_df.to_csv(\n",
    "        path.join(root_path, dname,\"DataNormilized.csv\"), header=None, index=False\n",
    "    )"
   ]
  }
 ],
 "metadata": {
  "kernelspec": {
   "display_name": "Python 3",
   "language": "python",
   "name": "python3"
  },
  "language_info": {
   "codemirror_mode": {
    "name": "ipython",
    "version": 3
   },
   "file_extension": ".py",
   "mimetype": "text/x-python",
   "name": "python",
   "nbconvert_exporter": "python",
   "pygments_lexer": "ipython3",
   "version": "3.11.10"
  }
 },
 "nbformat": 4,
 "nbformat_minor": 2
}
