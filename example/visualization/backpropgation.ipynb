{
 "cells": [
  {
   "cell_type": "markdown",
   "metadata": {},
   "source": [
    "# Grad Based Visualization of CNN-like neural networks"
   ]
  },
  {
   "cell_type": "markdown",
   "metadata": {},
   "source": [
    "## define surf model"
   ]
  },
  {
   "cell_type": "code",
   "execution_count": 1,
   "metadata": {},
   "outputs": [],
   "source": [
    "import torch\n",
    "from torch.utils.data import Dataset, DataLoader\n",
    "import pandas as pd\n",
    "import numpy as np\n",
    "import os\n",
    "from torch import nn\n",
    "from torchvision import models\n",
    "import copy\n",
    "\n",
    "device = torch.device(\"cuda\")\n",
    "# %env CUBLAS_WORKSPACE_CONFIG=:4096:8\n",
    "os.environ[\"TORCH_HOME\"] = \".\"\n",
    "import sys\n",
    "\n",
    "# torch.cuda.is_available()\n",
    "\n",
    "from torchvision import models\n",
    "\n",
    "############################################\n",
    "# parameters to be set for encironment\n",
    "# NOT NEED to modify if you have the setting\n",
    "\n",
    "data_root_path = \"/opt/local/torch/data/tcr-mat-form\"  # path to store train data\n",
    "util_path = \"../../..\"  # path to store the util package\n",
    "############################################\n",
    "\n",
    "# add local dir to sys path\n",
    "sys.path.insert(0, util_path)  # the util package is supposed to be clone to this path"
   ]
  },
  {
   "cell_type": "code",
   "execution_count": 2,
   "metadata": {},
   "outputs": [],
   "source": [
    "from util.model.surf.modified_cnn_model import (\n",
    "    ModifiedPretrainedNet,\n",
    "    SurfNet256,\n",
    ")\n",
    "from typing import Any, Dict, Union\n",
    "from util.model.surf.dateset import SurfDatasetFromMat\n",
    "from util.model.surf.pretrained_model import PretrainedModelDb\n",
    "import torch.optim as optim\n",
    "\n",
    "\n",
    "def define_surf_model(\n",
    "    model_name: str,\n",
    "    model_type: Union[int, str],\n",
    "    suffix: str,\n",
    "    pretrain: bool = True,\n",
    "    set_type: str = \"train\",\n",
    "    kwd: Dict[str, Any] = {\n",
    "        \"dropout\": 0.2,\n",
    "        \"cnn_feature_ratio\": 0.5,\n",
    "        \"data_root_path\": \"/hy-tmp/\",\n",
    "        \"data_csv_filename\": \"DataNormilized.csv\",\n",
    "        \"lr\": 0.001,\n",
    "        \"num_params\": 3,\n",
    "        \"num_output\": 2,\n",
    "    },\n",
    "):\n",
    "    \"\"\"\n",
    "    定义和配置一个用于表面模型的深度学习模型。\n",
    "\n",
    "    参数:\n",
    "    - model_name: 模型的名称。\n",
    "    - model_type: 模型的类型，可以是整数或字符串。\n",
    "    - suffix: 附加在模型名称和类型之后的后缀，用于区分不同的模型配置。\n",
    "    - pretrain: 是否使用预训练的模型权重，默认为True。\n",
    "    - kwd: 包含模型训练和配置所需的各种参数的字典。\n",
    "\n",
    "    返回:\n",
    "    一个包含模型配置和训练所需信息的字典，包括模型前缀、模型实例、数据集、优化器和损失函数。\n",
    "    \"\"\"\n",
    "\n",
    "    # 初始化预训练模型数据库\n",
    "    model_info_db = PretrainedModelDb()\n",
    "\n",
    "    # 从数据库中获取指定模型和类型的信息\n",
    "    train_model, model_weights, name_first_conv, name_fc = model_info_db.get_info(\n",
    "        model_name, model_type\n",
    "    )\n",
    "\n",
    "    # 构造模型前缀，用于后续的日志记录或模型保存\n",
    "    prefix = f\"{model_name}{model_type}_{suffix}\"\n",
    "\n",
    "    # 创建一个修改过的预训练网络实例\n",
    "    pnet = ModifiedPretrainedNet(\n",
    "        pretrained_net=train_model,\n",
    "        weights=model_weights if pretrain else None,\n",
    "        name_first_conv=name_first_conv,\n",
    "        name_fc=name_fc,\n",
    "    )\n",
    "\n",
    "    # 创建并配置最终的表面模型\n",
    "    surf_model = SurfNet256(\n",
    "        modified_net=pnet,\n",
    "        num_params=kwd[\"num_params\"],\n",
    "        num_output=kwd[\"num_output\"],\n",
    "        dropout=kwd[\"dropout\"],\n",
    "        cnn_feature_ratio=kwd[\"cnn_feature_ratio\"],\n",
    "    )\n",
    "\n",
    "    # 将模型移动到指定的设备上\n",
    "    surf_model.to(device)\n",
    "\n",
    "    # 创建并配置数据集\n",
    "    dset = SurfDatasetFromMat(\n",
    "        data_csv_filename=os.path.join(\n",
    "            kwd[\"data_root_path\"], set_type, kwd[\"data_csv_filename\"]\n",
    "        ),\n",
    "        surf_data_dir=os.path.join(kwd[\"data_root_path\"], set_type, \"Surf\"),\n",
    "        param_start_idx=3,\n",
    "        param_end_idx=6,\n",
    "        num_targets=2,\n",
    "    )\n",
    "\n",
    "    # 创建优化器，用于模型参数的更新\n",
    "    optimizer = optim.Adam(surf_model.parameters(), lr=kwd[\"lr\"])\n",
    "\n",
    "    # 定义损失函数，用于衡量模型预测值与真实值的差异\n",
    "    loss_func = nn.MSELoss()\n",
    "\n",
    "    # 返回包含模型配置和训练所需信息的字典\n",
    "    return {\n",
    "        \"prefix\": prefix,\n",
    "        \"train_model\": surf_model,\n",
    "        \"dset\": dset,\n",
    "        \"optimizer\": optimizer,\n",
    "        \"loss_func\": loss_func,\n",
    "    }"
   ]
  },
  {
   "cell_type": "markdown",
   "metadata": {},
   "source": [
    "## load trained checkpoints"
   ]
  },
  {
   "cell_type": "code",
   "execution_count": 3,
   "metadata": {},
   "outputs": [
    {
     "ename": "KeyboardInterrupt",
     "evalue": "",
     "output_type": "error",
     "traceback": [
      "\u001b[0;31m---------------------------------------------------------------------------\u001b[0m",
      "\u001b[0;31mKeyboardInterrupt\u001b[0m                         Traceback (most recent call last)",
      "Cell \u001b[0;32mIn[3], line 11\u001b[0m\n\u001b[1;32m      1\u001b[0m kwd \u001b[38;5;241m=\u001b[39m {\n\u001b[1;32m      2\u001b[0m     \u001b[38;5;124m\"\u001b[39m\u001b[38;5;124mdropout\u001b[39m\u001b[38;5;124m\"\u001b[39m: \u001b[38;5;241m0.2\u001b[39m,\n\u001b[1;32m      3\u001b[0m     \u001b[38;5;124m\"\u001b[39m\u001b[38;5;124mcnn_feature_ratio\u001b[39m\u001b[38;5;124m\"\u001b[39m: \u001b[38;5;241m0.5\u001b[39m,\n\u001b[0;32m   (...)\u001b[0m\n\u001b[1;32m      8\u001b[0m     \u001b[38;5;124m\"\u001b[39m\u001b[38;5;124mnum_output\u001b[39m\u001b[38;5;124m\"\u001b[39m: \u001b[38;5;241m2\u001b[39m,\n\u001b[1;32m      9\u001b[0m }\n\u001b[1;32m     10\u001b[0m suffix \u001b[38;5;241m=\u001b[39m \u001b[38;5;124m\"\u001b[39m\u001b[38;5;124minput254_cv5_train10000\u001b[39m\u001b[38;5;124m\"\u001b[39m\n\u001b[0;32m---> 11\u001b[0m model_info \u001b[38;5;241m=\u001b[39m define_surf_model(\n\u001b[1;32m     12\u001b[0m     model_name\u001b[38;5;241m=\u001b[39m\u001b[38;5;124m\"\u001b[39m\u001b[38;5;124mdensenet\u001b[39m\u001b[38;5;124m\"\u001b[39m,\n\u001b[1;32m     13\u001b[0m     model_type\u001b[38;5;241m=\u001b[39m\u001b[38;5;124m\"\u001b[39m\u001b[38;5;124m121\u001b[39m\u001b[38;5;124m\"\u001b[39m,\n\u001b[1;32m     14\u001b[0m     pretrain\u001b[38;5;241m=\u001b[39m\u001b[38;5;28;01mFalse\u001b[39;00m,\n\u001b[1;32m     15\u001b[0m     suffix\u001b[38;5;241m=\u001b[39msuffix,\n\u001b[1;32m     16\u001b[0m     set_type\u001b[38;5;241m=\u001b[39m\u001b[38;5;124m\"\u001b[39m\u001b[38;5;124mtest\u001b[39m\u001b[38;5;124m\"\u001b[39m,\n\u001b[1;32m     17\u001b[0m     kwd\u001b[38;5;241m=\u001b[39mkwd,\n\u001b[1;32m     18\u001b[0m )\n\u001b[1;32m     19\u001b[0m model_name \u001b[38;5;241m=\u001b[39m \u001b[38;5;124mf\u001b[39m\u001b[38;5;124m\"\u001b[39m\u001b[38;5;132;01m{\u001b[39;00mmodel_info[\u001b[38;5;124m'\u001b[39m\u001b[38;5;124mprefix\u001b[39m\u001b[38;5;124m'\u001b[39m]\u001b[38;5;132;01m}\u001b[39;00m\u001b[38;5;124m\"\u001b[39m\n\u001b[1;32m     20\u001b[0m root_path \u001b[38;5;241m=\u001b[39m \u001b[38;5;124m\"\u001b[39m\u001b[38;5;124m../../../thesis/surfTopo/checkpoints\u001b[39m\u001b[38;5;124m\"\u001b[39m\n",
      "Cell \u001b[0;32mIn[2], line 70\u001b[0m, in \u001b[0;36mdefine_surf_model\u001b[0;34m(model_name, model_type, suffix, pretrain, set_type, kwd)\u001b[0m\n\u001b[1;32m     61\u001b[0m surf_model \u001b[38;5;241m=\u001b[39m SurfNet256(\n\u001b[1;32m     62\u001b[0m     modified_net\u001b[38;5;241m=\u001b[39mpnet,\n\u001b[1;32m     63\u001b[0m     num_params\u001b[38;5;241m=\u001b[39mkwd[\u001b[38;5;124m\"\u001b[39m\u001b[38;5;124mnum_params\u001b[39m\u001b[38;5;124m\"\u001b[39m],\n\u001b[0;32m   (...)\u001b[0m\n\u001b[1;32m     66\u001b[0m     cnn_feature_ratio\u001b[38;5;241m=\u001b[39mkwd[\u001b[38;5;124m\"\u001b[39m\u001b[38;5;124mcnn_feature_ratio\u001b[39m\u001b[38;5;124m\"\u001b[39m],\n\u001b[1;32m     67\u001b[0m )\n\u001b[1;32m     69\u001b[0m \u001b[38;5;66;03m# 将模型移动到指定的设备上\u001b[39;00m\n\u001b[0;32m---> 70\u001b[0m surf_model\u001b[38;5;241m.\u001b[39mto(device)\n\u001b[1;32m     72\u001b[0m \u001b[38;5;66;03m# 创建并配置数据集\u001b[39;00m\n\u001b[1;32m     73\u001b[0m dset \u001b[38;5;241m=\u001b[39m SurfDatasetFromMat(\n\u001b[1;32m     74\u001b[0m     data_csv_filename\u001b[38;5;241m=\u001b[39mos\u001b[38;5;241m.\u001b[39mpath\u001b[38;5;241m.\u001b[39mjoin(\n\u001b[1;32m     75\u001b[0m         kwd[\u001b[38;5;124m\"\u001b[39m\u001b[38;5;124mdata_root_path\u001b[39m\u001b[38;5;124m\"\u001b[39m], set_type, kwd[\u001b[38;5;124m\"\u001b[39m\u001b[38;5;124mdata_csv_filename\u001b[39m\u001b[38;5;124m\"\u001b[39m]\n\u001b[0;32m   (...)\u001b[0m\n\u001b[1;32m     80\u001b[0m     num_targets\u001b[38;5;241m=\u001b[39m\u001b[38;5;241m2\u001b[39m,\n\u001b[1;32m     81\u001b[0m )\n",
      "File \u001b[0;32m/opt/local/anaconda3/envs/pytorch2/lib/python3.11/site-packages/torch/nn/modules/module.py:1173\u001b[0m, in \u001b[0;36mModule.to\u001b[0;34m(self, *args, **kwargs)\u001b[0m\n\u001b[1;32m   1170\u001b[0m         \u001b[38;5;28;01melse\u001b[39;00m:\n\u001b[1;32m   1171\u001b[0m             \u001b[38;5;28;01mraise\u001b[39;00m\n\u001b[0;32m-> 1173\u001b[0m \u001b[38;5;28;01mreturn\u001b[39;00m \u001b[38;5;28mself\u001b[39m\u001b[38;5;241m.\u001b[39m_apply(convert)\n",
      "File \u001b[0;32m/opt/local/anaconda3/envs/pytorch2/lib/python3.11/site-packages/torch/nn/modules/module.py:779\u001b[0m, in \u001b[0;36mModule._apply\u001b[0;34m(self, fn, recurse)\u001b[0m\n\u001b[1;32m    777\u001b[0m \u001b[38;5;28;01mif\u001b[39;00m recurse:\n\u001b[1;32m    778\u001b[0m     \u001b[38;5;28;01mfor\u001b[39;00m module \u001b[38;5;129;01min\u001b[39;00m \u001b[38;5;28mself\u001b[39m\u001b[38;5;241m.\u001b[39mchildren():\n\u001b[0;32m--> 779\u001b[0m         module\u001b[38;5;241m.\u001b[39m_apply(fn)\n\u001b[1;32m    781\u001b[0m \u001b[38;5;28;01mdef\u001b[39;00m \u001b[38;5;21mcompute_should_use_set_data\u001b[39m(tensor, tensor_applied):\n\u001b[1;32m    782\u001b[0m     \u001b[38;5;28;01mif\u001b[39;00m torch\u001b[38;5;241m.\u001b[39m_has_compatible_shallow_copy_type(tensor, tensor_applied):\n\u001b[1;32m    783\u001b[0m         \u001b[38;5;66;03m# If the new tensor has compatible tensor type as the existing tensor,\u001b[39;00m\n\u001b[1;32m    784\u001b[0m         \u001b[38;5;66;03m# the current behavior is to change the tensor in-place using `.data =`,\u001b[39;00m\n\u001b[0;32m   (...)\u001b[0m\n\u001b[1;32m    789\u001b[0m         \u001b[38;5;66;03m# global flag to let the user control whether they want the future\u001b[39;00m\n\u001b[1;32m    790\u001b[0m         \u001b[38;5;66;03m# behavior of overwriting the existing tensor or not.\u001b[39;00m\n",
      "File \u001b[0;32m/opt/local/anaconda3/envs/pytorch2/lib/python3.11/site-packages/torch/nn/modules/module.py:779\u001b[0m, in \u001b[0;36mModule._apply\u001b[0;34m(self, fn, recurse)\u001b[0m\n\u001b[1;32m    777\u001b[0m \u001b[38;5;28;01mif\u001b[39;00m recurse:\n\u001b[1;32m    778\u001b[0m     \u001b[38;5;28;01mfor\u001b[39;00m module \u001b[38;5;129;01min\u001b[39;00m \u001b[38;5;28mself\u001b[39m\u001b[38;5;241m.\u001b[39mchildren():\n\u001b[0;32m--> 779\u001b[0m         module\u001b[38;5;241m.\u001b[39m_apply(fn)\n\u001b[1;32m    781\u001b[0m \u001b[38;5;28;01mdef\u001b[39;00m \u001b[38;5;21mcompute_should_use_set_data\u001b[39m(tensor, tensor_applied):\n\u001b[1;32m    782\u001b[0m     \u001b[38;5;28;01mif\u001b[39;00m torch\u001b[38;5;241m.\u001b[39m_has_compatible_shallow_copy_type(tensor, tensor_applied):\n\u001b[1;32m    783\u001b[0m         \u001b[38;5;66;03m# If the new tensor has compatible tensor type as the existing tensor,\u001b[39;00m\n\u001b[1;32m    784\u001b[0m         \u001b[38;5;66;03m# the current behavior is to change the tensor in-place using `.data =`,\u001b[39;00m\n\u001b[0;32m   (...)\u001b[0m\n\u001b[1;32m    789\u001b[0m         \u001b[38;5;66;03m# global flag to let the user control whether they want the future\u001b[39;00m\n\u001b[1;32m    790\u001b[0m         \u001b[38;5;66;03m# behavior of overwriting the existing tensor or not.\u001b[39;00m\n",
      "    \u001b[0;31m[... skipping similar frames: Module._apply at line 779 (1 times)]\u001b[0m\n",
      "File \u001b[0;32m/opt/local/anaconda3/envs/pytorch2/lib/python3.11/site-packages/torch/nn/modules/module.py:779\u001b[0m, in \u001b[0;36mModule._apply\u001b[0;34m(self, fn, recurse)\u001b[0m\n\u001b[1;32m    777\u001b[0m \u001b[38;5;28;01mif\u001b[39;00m recurse:\n\u001b[1;32m    778\u001b[0m     \u001b[38;5;28;01mfor\u001b[39;00m module \u001b[38;5;129;01min\u001b[39;00m \u001b[38;5;28mself\u001b[39m\u001b[38;5;241m.\u001b[39mchildren():\n\u001b[0;32m--> 779\u001b[0m         module\u001b[38;5;241m.\u001b[39m_apply(fn)\n\u001b[1;32m    781\u001b[0m \u001b[38;5;28;01mdef\u001b[39;00m \u001b[38;5;21mcompute_should_use_set_data\u001b[39m(tensor, tensor_applied):\n\u001b[1;32m    782\u001b[0m     \u001b[38;5;28;01mif\u001b[39;00m torch\u001b[38;5;241m.\u001b[39m_has_compatible_shallow_copy_type(tensor, tensor_applied):\n\u001b[1;32m    783\u001b[0m         \u001b[38;5;66;03m# If the new tensor has compatible tensor type as the existing tensor,\u001b[39;00m\n\u001b[1;32m    784\u001b[0m         \u001b[38;5;66;03m# the current behavior is to change the tensor in-place using `.data =`,\u001b[39;00m\n\u001b[0;32m   (...)\u001b[0m\n\u001b[1;32m    789\u001b[0m         \u001b[38;5;66;03m# global flag to let the user control whether they want the future\u001b[39;00m\n\u001b[1;32m    790\u001b[0m         \u001b[38;5;66;03m# behavior of overwriting the existing tensor or not.\u001b[39;00m\n",
      "File \u001b[0;32m/opt/local/anaconda3/envs/pytorch2/lib/python3.11/site-packages/torch/nn/modules/module.py:804\u001b[0m, in \u001b[0;36mModule._apply\u001b[0;34m(self, fn, recurse)\u001b[0m\n\u001b[1;32m    800\u001b[0m \u001b[38;5;66;03m# Tensors stored in modules are graph leaves, and we don't want to\u001b[39;00m\n\u001b[1;32m    801\u001b[0m \u001b[38;5;66;03m# track autograd history of `param_applied`, so we have to use\u001b[39;00m\n\u001b[1;32m    802\u001b[0m \u001b[38;5;66;03m# `with torch.no_grad():`\u001b[39;00m\n\u001b[1;32m    803\u001b[0m \u001b[38;5;28;01mwith\u001b[39;00m torch\u001b[38;5;241m.\u001b[39mno_grad():\n\u001b[0;32m--> 804\u001b[0m     param_applied \u001b[38;5;241m=\u001b[39m fn(param)\n\u001b[1;32m    805\u001b[0m p_should_use_set_data \u001b[38;5;241m=\u001b[39m compute_should_use_set_data(param, param_applied)\n\u001b[1;32m    807\u001b[0m \u001b[38;5;66;03m# subclasses may have multiple child tensors so we need to use swap_tensors\u001b[39;00m\n",
      "File \u001b[0;32m/opt/local/anaconda3/envs/pytorch2/lib/python3.11/site-packages/torch/nn/modules/module.py:1159\u001b[0m, in \u001b[0;36mModule.to.<locals>.convert\u001b[0;34m(t)\u001b[0m\n\u001b[1;32m   1152\u001b[0m     \u001b[38;5;28;01mif\u001b[39;00m convert_to_format \u001b[38;5;129;01mis\u001b[39;00m \u001b[38;5;129;01mnot\u001b[39;00m \u001b[38;5;28;01mNone\u001b[39;00m \u001b[38;5;129;01mand\u001b[39;00m t\u001b[38;5;241m.\u001b[39mdim() \u001b[38;5;129;01min\u001b[39;00m (\u001b[38;5;241m4\u001b[39m, \u001b[38;5;241m5\u001b[39m):\n\u001b[1;32m   1153\u001b[0m         \u001b[38;5;28;01mreturn\u001b[39;00m t\u001b[38;5;241m.\u001b[39mto(\n\u001b[1;32m   1154\u001b[0m             device,\n\u001b[1;32m   1155\u001b[0m             dtype \u001b[38;5;28;01mif\u001b[39;00m t\u001b[38;5;241m.\u001b[39mis_floating_point() \u001b[38;5;129;01mor\u001b[39;00m t\u001b[38;5;241m.\u001b[39mis_complex() \u001b[38;5;28;01melse\u001b[39;00m \u001b[38;5;28;01mNone\u001b[39;00m,\n\u001b[1;32m   1156\u001b[0m             non_blocking,\n\u001b[1;32m   1157\u001b[0m             memory_format\u001b[38;5;241m=\u001b[39mconvert_to_format,\n\u001b[1;32m   1158\u001b[0m         )\n\u001b[0;32m-> 1159\u001b[0m     \u001b[38;5;28;01mreturn\u001b[39;00m t\u001b[38;5;241m.\u001b[39mto(\n\u001b[1;32m   1160\u001b[0m         device,\n\u001b[1;32m   1161\u001b[0m         dtype \u001b[38;5;28;01mif\u001b[39;00m t\u001b[38;5;241m.\u001b[39mis_floating_point() \u001b[38;5;129;01mor\u001b[39;00m t\u001b[38;5;241m.\u001b[39mis_complex() \u001b[38;5;28;01melse\u001b[39;00m \u001b[38;5;28;01mNone\u001b[39;00m,\n\u001b[1;32m   1162\u001b[0m         non_blocking,\n\u001b[1;32m   1163\u001b[0m     )\n\u001b[1;32m   1164\u001b[0m \u001b[38;5;28;01mexcept\u001b[39;00m \u001b[38;5;167;01mNotImplementedError\u001b[39;00m \u001b[38;5;28;01mas\u001b[39;00m e:\n\u001b[1;32m   1165\u001b[0m     \u001b[38;5;28;01mif\u001b[39;00m \u001b[38;5;28mstr\u001b[39m(e) \u001b[38;5;241m==\u001b[39m \u001b[38;5;124m\"\u001b[39m\u001b[38;5;124mCannot copy out of meta tensor; no data!\u001b[39m\u001b[38;5;124m\"\u001b[39m:\n",
      "File \u001b[0;32m/opt/local/anaconda3/envs/pytorch2/lib/python3.11/site-packages/torch/cuda/__init__.py:293\u001b[0m, in \u001b[0;36m_lazy_init\u001b[0;34m()\u001b[0m\n\u001b[1;32m    291\u001b[0m \u001b[38;5;28;01mif\u001b[39;00m \u001b[38;5;124m\"\u001b[39m\u001b[38;5;124mCUDA_MODULE_LOADING\u001b[39m\u001b[38;5;124m\"\u001b[39m \u001b[38;5;129;01mnot\u001b[39;00m \u001b[38;5;129;01min\u001b[39;00m os\u001b[38;5;241m.\u001b[39menviron:\n\u001b[1;32m    292\u001b[0m     os\u001b[38;5;241m.\u001b[39menviron[\u001b[38;5;124m\"\u001b[39m\u001b[38;5;124mCUDA_MODULE_LOADING\u001b[39m\u001b[38;5;124m\"\u001b[39m] \u001b[38;5;241m=\u001b[39m \u001b[38;5;124m\"\u001b[39m\u001b[38;5;124mLAZY\u001b[39m\u001b[38;5;124m\"\u001b[39m\n\u001b[0;32m--> 293\u001b[0m torch\u001b[38;5;241m.\u001b[39m_C\u001b[38;5;241m.\u001b[39m_cuda_init()\n\u001b[1;32m    294\u001b[0m \u001b[38;5;66;03m# Some of the queued calls may reentrantly call _lazy_init();\u001b[39;00m\n\u001b[1;32m    295\u001b[0m \u001b[38;5;66;03m# we need to just return without initializing in that case.\u001b[39;00m\n\u001b[1;32m    296\u001b[0m \u001b[38;5;66;03m# However, we must not let any *other* threads in!\u001b[39;00m\n\u001b[1;32m    297\u001b[0m _tls\u001b[38;5;241m.\u001b[39mis_initializing \u001b[38;5;241m=\u001b[39m \u001b[38;5;28;01mTrue\u001b[39;00m\n",
      "\u001b[0;31mKeyboardInterrupt\u001b[0m: "
     ]
    }
   ],
   "source": [
    "kwd = {\n",
    "    \"dropout\": 0.2,\n",
    "    \"cnn_feature_ratio\": 0.5,\n",
    "    \"data_root_path\": data_root_path,\n",
    "    \"data_csv_filename\": \"DataNormilized.csv\",\n",
    "    \"lr\": 0.001,\n",
    "    \"num_params\": 3,\n",
    "    \"num_output\": 2,\n",
    "}\n",
    "suffix = \"input254_cv5_train10000\"\n",
    "model_info = define_surf_model(\n",
    "    model_name=\"densenet\",\n",
    "    model_type=\"121\",\n",
    "    pretrain=False,\n",
    "    suffix=suffix,\n",
    "    set_type=\"test\",\n",
    "    kwd=kwd,\n",
    ")\n",
    "model_name = f\"{model_info['prefix']}\"\n",
    "root_path = \"../../../thesis/surfTopo/checkpoints\"\n",
    "\n",
    "best_checkpoint = torch.load(\n",
    "    os.path.join(root_path, model_name, f\"surf_{model_name}_best.ckpt\")\n",
    ")\n",
    "# latest_checkpoint = torch.load(\n",
    "#     os.path.join(root_path, model_name, f\"surf_{model_name}_latest.ckpt\")\n",
    "# )"
   ]
  },
  {
   "cell_type": "code",
   "execution_count": 15,
   "metadata": {},
   "outputs": [],
   "source": [
    "surf_model = model_info[\"train_model\"]\n",
    "surf_model.load_state_dict(best_checkpoint[\"model_state_dict\"])\n",
    "optimizer = model_info[\"optimizer\"]\n",
    "optimizer.load_state_dict(best_checkpoint[\"optimizer_state_dict\"])\n",
    "test_set = model_info[\"dset\"]\n",
    "loss_func = model_info[\"loss_func\"]\n",
    "test_loader = DataLoader(test_set, batch_size=1, shuffle=False)"
   ]
  },
  {
   "cell_type": "markdown",
   "metadata": {},
   "source": [
    "## visualization"
   ]
  },
  {
   "cell_type": "markdown",
   "metadata": {},
   "source": [
    "### model preprocessing\n",
    "\n",
    "* 根据反向传播的规则,需要ReLU层的inplace=False,因此做如下修改"
   ]
  },
  {
   "cell_type": "code",
   "execution_count": 16,
   "metadata": {},
   "outputs": [],
   "source": [
    "for name, module in surf_model.named_modules():\n",
    "    if isinstance(module, nn.ReLU):\n",
    "        # print(name)\n",
    "        setattr(module, \"inplace\", False)"
   ]
  },
  {
   "cell_type": "markdown",
   "metadata": {},
   "source": [
    "### Guided Backpropagation 导向反向传播"
   ]
  },
  {
   "cell_type": "code",
   "execution_count": 17,
   "metadata": {},
   "outputs": [],
   "source": [
    "from util.visual.torch.cnn.backprop import GuidedBackprop"
   ]
  },
  {
   "cell_type": "markdown",
   "metadata": {},
   "source": [
    "#### define visualization class 定义可视化类"
   ]
  },
  {
   "cell_type": "code",
   "execution_count": 18,
   "metadata": {},
   "outputs": [],
   "source": [
    "gbp = GuidedBackprop(\n",
    "    model=surf_model, relu_modules=[surf_model.pretrained_net], verbose=False\n",
    ")"
   ]
  },
  {
   "cell_type": "markdown",
   "metadata": {},
   "source": [
    "#### import one case in test set 从参数集中导入一个测试用例"
   ]
  },
  {
   "cell_type": "code",
   "execution_count": 19,
   "metadata": {},
   "outputs": [],
   "source": [
    "for batch in test_loader:\n",
    "    grad, grad_times_image = gbp.generate_gradients(batch, loss_func=loss_func)\n",
    "    break"
   ]
  },
  {
   "cell_type": "markdown",
   "metadata": {},
   "source": [
    "#### grad of guided backpropagation 导向反向传播的梯度可视化\n",
    "\n",
    "包括整体梯度，正向和负向影响"
   ]
  },
  {
   "cell_type": "code",
   "execution_count": 20,
   "metadata": {},
   "outputs": [],
   "source": [
    "import matplotlib.pyplot as plt\n",
    "from util.visual.torch.cnn.functions import get_positive_negative_saliency\n",
    "\n",
    "# 创建一个图形\n",
    "\n",
    "input_surf = batch[0][0].detach().numpy()\n",
    "pos, neg = get_positive_negative_saliency(grad)\n",
    "fig, axes = plt.subplots(3, 4, figsize=(20, 15))\n",
    "\n",
    "input_kwds = {\"cmap\": \"gist_rainbow\"}\n",
    "grad_kwds = {\"alpha\": 0.5, \"cmap\": \"gist_rainbow\"}\n",
    "\n",
    "# 显示第一张图片\n",
    "axes[0, 0].imshow(input_surf[0], zorder=0, **input_kwds)\n",
    "axes[0, 1].imshow(grad[0], zorder=1, **grad_kwds)\n",
    "axes[0, 2].imshow(pos[0], zorder=1, **grad_kwds)\n",
    "axes[0, 3].imshow(neg[0], zorder=1, **grad_kwds)\n",
    "# 显示第二张图片\n",
    "axes[1, 0].imshow(input_surf[1], zorder=0, **input_kwds)\n",
    "axes[1, 1].imshow(grad[1], zorder=1, **grad_kwds)\n",
    "axes[1, 2].imshow(pos[1], zorder=1, **grad_kwds)\n",
    "axes[1, 3].imshow(neg[1], zorder=1, **grad_kwds)\n",
    "#\n",
    "axes[2, 0].imshow(input_surf[0] + input_surf[1], zorder=0, **input_kwds)\n",
    "axes[2, 1].imshow(grad[0] + grad[1], zorder=1, **grad_kwds)\n",
    "axes[2, 2].imshow(pos[0] + pos[1], zorder=1, **grad_kwds)\n",
    "axes[2, 3].imshow(neg[0] + neg[1], zorder=1, **grad_kwds)\n",
    "\n",
    "for ax in axes.flat:\n",
    "    ax.axis(\"off\")\n",
    "# 显示图形\n",
    "\n",
    "plt.savefig(\"./fig/gbp.png\")\n",
    "plt.close()"
   ]
  },
  {
   "cell_type": "markdown",
   "metadata": {},
   "source": [
    "#### grad times image of guided backpropagation 梯度x原表面"
   ]
  },
  {
   "cell_type": "code",
   "execution_count": 21,
   "metadata": {},
   "outputs": [],
   "source": [
    "fig, axes = plt.subplots(3, 4, figsize=(20, 15))\n",
    "\n",
    "# 显示第一张图片\n",
    "axes[0, 0].imshow(input_surf[0], zorder=0, **input_kwds)\n",
    "axes[0, 1].imshow(grad_times_image[0], zorder=1, **grad_kwds)\n",
    "axes[0, 2].imshow(pos[0], zorder=1, **grad_kwds)\n",
    "axes[0, 3].imshow(neg[0], zorder=1, **grad_kwds)\n",
    "# 显示第二张图片\n",
    "axes[1, 0].imshow(input_surf[1], zorder=0, **input_kwds)\n",
    "axes[1, 1].imshow(grad_times_image[1], zorder=1, **grad_kwds)\n",
    "axes[1, 2].imshow(pos[1], zorder=1, **grad_kwds)\n",
    "axes[1, 3].imshow(neg[1], zorder=1, **grad_kwds)\n",
    "#\n",
    "axes[2, 0].imshow(input_surf[0] + input_surf[1], zorder=0, **input_kwds)\n",
    "axes[2, 1].imshow(grad_times_image[0] + grad_times_image[1], zorder=1, **grad_kwds)\n",
    "axes[2, 2].imshow(pos[0] + pos[1], zorder=1, **grad_kwds)\n",
    "axes[2, 3].imshow(neg[0] + neg[1], zorder=1, **grad_kwds)\n",
    "\n",
    "for ax in axes.flat:\n",
    "    ax.axis(\"off\")\n",
    "# 显示图形\n",
    "\n",
    "plt.savefig(\"./fig/gbp_times_image.png\")\n",
    "plt.close()"
   ]
  },
  {
   "cell_type": "markdown",
   "metadata": {},
   "source": [
    "#### smooth grad of guided backpropagation 平滑梯度"
   ]
  },
  {
   "cell_type": "markdown",
   "metadata": {},
   "source": [
    "##### single sigma 单个sigma"
   ]
  },
  {
   "cell_type": "code",
   "execution_count": 22,
   "metadata": {},
   "outputs": [],
   "source": [
    "sm = 1\n",
    "smooth_grad = gbp.generate_smooth_grad(\n",
    "    batch, loss_func, num_samplers=50, sigma_multiplier=sm\n",
    ")\n",
    "fig, axes = plt.subplots(3, 2, figsize=(10, 15))\n",
    "\n",
    "# 显示第一张图片\n",
    "axes[0, 0].imshow(input_surf[0], zorder=0, **input_kwds)\n",
    "axes[0, 1].imshow(smooth_grad[0], zorder=1, **grad_kwds)\n",
    "\n",
    "# 显示第二张图片\n",
    "axes[1, 0].imshow(input_surf[1], zorder=0, **input_kwds)\n",
    "axes[1, 1].imshow(smooth_grad[1], zorder=1, **grad_kwds)\n",
    "\n",
    "#\n",
    "axes[2, 0].imshow(input_surf[0] + input_surf[1], zorder=0, **input_kwds)\n",
    "axes[2, 1].imshow(smooth_grad[0] + smooth_grad[1], zorder=1, **grad_kwds)\n",
    "\n",
    "for ax in axes.flat:\n",
    "    ax.axis(\"off\")\n",
    "# 显示图形\n",
    "\n",
    "plt.savefig(f\"./fig/gbp_smooth_grad_sigma_{sm}.png\")\n",
    "plt.close()"
   ]
  },
  {
   "cell_type": "markdown",
   "metadata": {},
   "source": [
    "##### make gif for one of the surf 制作其中一个表面的gif"
   ]
  },
  {
   "cell_type": "code",
   "execution_count": 31,
   "metadata": {},
   "outputs": [],
   "source": [
    "for sm in range(1, 100):\n",
    "    smooth_grad = gbp.generate_smooth_grad(\n",
    "        batch, loss_func, num_samplers=50, sigma_multiplier=sm\n",
    "    )\n",
    "    fig, axes = plt.subplots(1, 1, figsize=(5, 5))\n",
    "\n",
    "    # 显示第一张图片\n",
    "    axes.imshow(smooth_grad[0], zorder=1, **grad_kwds)\n",
    "\n",
    "    axes.axis(\"off\")\n",
    "    # 显示图形\n",
    "    plt.title(f\"sigma={sm}/(max-min)\")\n",
    "    plt.savefig(f\"./fig/gbp_smooth_grad/sigma_{sm}.png\")\n",
    "    plt.close()"
   ]
  },
  {
   "cell_type": "code",
   "execution_count": 33,
   "metadata": {},
   "outputs": [
    {
     "name": "stdout",
     "output_type": "stream",
     "text": [
      "GIF 动画已保存到 ./fig/gbp_smooth_grad.gif\n"
     ]
    }
   ],
   "source": [
    "from PIL import Image\n",
    "import os\n",
    "\n",
    "# 图片文件夹路径\n",
    "image_folder = \"./fig/gbp_smooth_grad\"\n",
    "\n",
    "# 获取文件夹中的所有图片文件\n",
    "images = [f\"sigma_{i}.png\" for i in range(1, 100)]\n",
    "\n",
    "# 读取图片并存储到列表中\n",
    "frames = []\n",
    "for image in images:\n",
    "    frame = Image.open(os.path.join(image_folder, image))\n",
    "    frames.append(frame)\n",
    "\n",
    "# 保存为 GIF 动画\n",
    "output_gif_path = \"./fig/gbp_smooth_grad.gif\"\n",
    "frames[0].save(\n",
    "    output_gif_path,\n",
    "    format=\"GIF\",\n",
    "    append_images=frames[1:],\n",
    "    save_all=True,\n",
    "    duration=1000,  # 每帧之间的间隔时间（毫秒）\n",
    "    loop=0,  # 循环次数，0 表示无限循环\n",
    ")\n",
    "\n",
    "print(f\"GIF 动画已保存到 {output_gif_path}\")"
   ]
  },
  {
   "cell_type": "markdown",
   "metadata": {},
   "source": [
    "### vanilla backpropagation 普通反向传播"
   ]
  },
  {
   "cell_type": "code",
   "execution_count": null,
   "metadata": {},
   "outputs": [],
   "source": [
    "from util.visual.torch.cnn.backprop import VanillaBackprop\n",
    "\n",
    "vbp = VanillaBackprop(surf_model)\n",
    "for batch in test_loader:\n",
    "    g_v, grad_times_image_v = vbp.generate_gradients(batch, loss_func=loss_func)\n",
    "    break\n",
    "pos, neg = get_positive_negative_saliency(g_v)\n",
    "fig, axes = plt.subplots(3, 4, figsize=(20, 15))\n",
    "\n",
    "input_kwds = {\"cmap\": \"gist_rainbow\"}\n",
    "grad_kwds = {\"alpha\": 0.5, \"cmap\": \"gist_rainbow\"}\n",
    "\n",
    "# 显示第一张图片\n",
    "axes[0, 0].imshow(input_surf[0], zorder=0, **input_kwds)\n",
    "axes[0, 1].imshow(g_v[0], zorder=1, **grad_kwds)\n",
    "axes[0, 2].imshow(pos[0], zorder=1, **grad_kwds)\n",
    "axes[0, 3].imshow(neg[0], zorder=1, **grad_kwds)\n",
    "# 显示第二张图片\n",
    "axes[1, 0].imshow(input_surf[1], zorder=0, **input_kwds)\n",
    "axes[1, 1].imshow(g_v[1], zorder=1, **grad_kwds)\n",
    "axes[1, 2].imshow(pos[1], zorder=1, **grad_kwds)\n",
    "axes[1, 3].imshow(neg[1], zorder=1, **grad_kwds)\n",
    "#\n",
    "axes[2, 0].imshow(input_surf[0] + input_surf[1], zorder=0, **input_kwds)\n",
    "axes[2, 1].imshow(g_v[0] + g_v[1], zorder=1, **grad_kwds)\n",
    "axes[2, 2].imshow(pos[0] + pos[1], zorder=1, **grad_kwds)\n",
    "axes[2, 3].imshow(neg[0] + neg[1], zorder=1, **grad_kwds)\n",
    "\n",
    "for ax in axes.flat:\n",
    "    ax.axis(\"off\")\n",
    "# 显示图形\n",
    "plt.savefig(\"./fig/vbp.png\")\n",
    "plt.close()"
   ]
  },
  {
   "cell_type": "markdown",
   "metadata": {},
   "source": [
    "### integrated gradients 集成梯度"
   ]
  },
  {
   "cell_type": "code",
   "execution_count": 13,
   "metadata": {},
   "outputs": [],
   "source": [
    "for batch in test_loader:\n",
    "    g_ig = vbp.generate_integrated_gradients(batch, loss_func=loss_func, steps=10)\n",
    "    break\n",
    "pos, neg = get_positive_negative_saliency(g_ig)\n",
    "fig, axes = plt.subplots(3, 4, figsize=(20, 15))\n",
    "\n",
    "input_kwds = {\"cmap\": \"gist_rainbow\"}\n",
    "grad_kwds = {\"alpha\": 0.5, \"cmap\": \"gist_rainbow\"}\n",
    "\n",
    "# 显示第一张图片\n",
    "axes[0, 0].imshow(input_surf[0], zorder=0, **input_kwds)\n",
    "axes[0, 1].imshow(g_ig[0], zorder=1, **grad_kwds)\n",
    "axes[0, 2].imshow(pos[0], zorder=1, **grad_kwds)\n",
    "axes[0, 3].imshow(neg[0], zorder=1, **grad_kwds)\n",
    "# 显示第二张图片\n",
    "axes[1, 0].imshow(input_surf[1], zorder=0, **input_kwds)\n",
    "axes[1, 1].imshow(g_ig[1], zorder=1, **grad_kwds)\n",
    "axes[1, 2].imshow(pos[1], zorder=1, **grad_kwds)\n",
    "axes[1, 3].imshow(neg[1], zorder=1, **grad_kwds)\n",
    "#\n",
    "axes[2, 0].imshow(input_surf[0] + input_surf[1], zorder=0, **input_kwds)\n",
    "axes[2, 1].imshow(g_ig[0] + g_ig[1], zorder=1, **grad_kwds)\n",
    "axes[2, 2].imshow(pos[0] + pos[1], zorder=1, **grad_kwds)\n",
    "axes[2, 3].imshow(neg[0] + neg[1], zorder=1, **grad_kwds)\n",
    "\n",
    "for ax in axes.flat:\n",
    "    ax.axis(\"off\")\n",
    "# 显示图形\n",
    "plt.savefig(\"./fig/ig.png\")\n",
    "plt.close()"
   ]
  }
 ],
 "metadata": {
  "kernelspec": {
   "display_name": "pytorch2",
   "language": "python",
   "name": "python3"
  },
  "language_info": {
   "codemirror_mode": {
    "name": "ipython",
    "version": 3
   },
   "file_extension": ".py",
   "mimetype": "text/x-python",
   "name": "python",
   "nbconvert_exporter": "python",
   "pygments_lexer": "ipython3",
   "version": "3.11.9"
  }
 },
 "nbformat": 4,
 "nbformat_minor": 2
}
