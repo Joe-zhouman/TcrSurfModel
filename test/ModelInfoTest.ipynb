{
 "cells": [
  {
   "cell_type": "code",
   "execution_count": 1,
   "metadata": {},
   "outputs": [],
   "source": [
    "import sys\n",
    "\n",
    "util_path = \"../..\"\n",
    "sys.path.insert(0, util_path)\n",
    "\n",
    "from util.torch_model.surf_model.pretrained_model import PretrainedModelDb\n",
    "\n",
    "db = PretrainedModelDb()"
   ]
  },
  {
   "cell_type": "code",
   "execution_count": 2,
   "metadata": {},
   "outputs": [
    {
     "name": "stdout",
     "output_type": "stream",
     "text": [
      "convnext: ['_tiny', '_small', '_base', '_large']\n",
      "densenet: ['121', '161', '169', '201']\n",
      "efficientnet: ['_b0', '_b1', '_b2', '_b3', '_b4', '_b5', '_b6', '_b7', '_v2_s', '_v2_m', '_v2_l']\n",
      "googlenet: ['']\n",
      "inception: ['_v3']\n",
      "maxvit: ['_t']\n",
      "mnasnet: ['0_5', '0_75', '1_0', '1_3']\n",
      "mobilenet_v2: ['']\n",
      "mobilenet_v3: ['_small', '_large']\n",
      "regnet: ['_y_400mf', '_y_800mf', '_y_1_6gf', '_y_3_2gf', '_y_8gf', '_y_16gf', '_y_32gf', '_y_128gf', '_x_400mf', '_x_800mf', '_x_1_6gf', '_x_3_2gf', '_x_8gf', '_x_16gf', '_x_32gf']\n",
      "resnet: ['18', '34', '50', '101', '152']\n",
      "shufflenet_v2: ['_x0_5', '_x1_0', '_x1_5', '_x2_0']\n",
      "swin: ['_t', '_s', '_b', '_v2_t', '_v2_s', '_v2_b']\n",
      "vgg: ['11', '11_bn', '13', '13_bn', '16', '16_bn', '19', '19_bn']\n",
      "vit: ['_b_16', '_b_32', '_l_16', '_l_32', '_h_14']\n"
     ]
    }
   ],
   "source": [
    "mlist = db.models_list\n",
    "\n",
    "for m in mlist:\n",
    "    print(f\"{m}: {mlist[m].identifiers}\")"
   ]
  },
  {
   "cell_type": "code",
   "execution_count": 4,
   "metadata": {},
   "outputs": [
    {
     "name": "stdout",
     "output_type": "stream",
     "text": [
      "<function densenet121 at 0x7f3eeae6bce0>\n",
      "DenseNet121_Weights.IMAGENET1K_V1\n",
      "features.conv0\n",
      "classifier\n"
     ]
    }
   ],
   "source": [
    "model_class, model_weights, conv_name, fc_name = db.get_info(\n",
    "    \"densenet\", \"121\"\n",
    ")  # 神经网络名, 标识符\n",
    "# 类,权重,第一层卷积层的名字,全连接层的名字\n",
    "\n",
    "net = model_class()  # 网络初始化, 可以用pnet 初始化\n",
    "\n",
    "print(model_class)\n",
    "print(model_weights)\n",
    "print(conv_name)\n",
    "print(fc_name)"
   ]
  }
 ],
 "metadata": {
  "kernelspec": {
   "display_name": "Python 3",
   "language": "python",
   "name": "python3"
  },
  "language_info": {
   "codemirror_mode": {
    "name": "ipython",
    "version": 3
   },
   "file_extension": ".py",
   "mimetype": "text/x-python",
   "name": "python",
   "nbconvert_exporter": "python",
   "pygments_lexer": "ipython3",
   "version": "3.11.10"
  }
 },
 "nbformat": 4,
 "nbformat_minor": 2
}
