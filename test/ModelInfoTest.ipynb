{
 "cells": [
  {
   "cell_type": "code",
   "execution_count": 1,
   "metadata": {},
   "outputs": [],
   "source": [
    "import sys\n",
    "\n",
    "util_path = \"/home/joe/Documents/pytorch/\"\n",
    "sys.path.insert(0, util_path)\n",
    "\n",
    "from util.torch_model.surf_model.pretrained_model import PretrainedModelDb\n",
    "\n",
    "db = PretrainedModelDb()\n",
    "\n",
    "m, w, cn, fcn = db.get_info(\"densenet\", \"121\")"
   ]
  },
  {
   "cell_type": "code",
   "execution_count": 2,
   "metadata": {},
   "outputs": [],
   "source": [
    "net = m()"
   ]
  }
 ],
 "metadata": {
  "kernelspec": {
   "display_name": "pytorch2",
   "language": "python",
   "name": "python3"
  },
  "language_info": {
   "codemirror_mode": {
    "name": "ipython",
    "version": 3
   },
   "file_extension": ".py",
   "mimetype": "text/x-python",
   "name": "python",
   "nbconvert_exporter": "python",
   "pygments_lexer": "ipython3",
   "version": "3.11.9"
  }
 },
 "nbformat": 4,
 "nbformat_minor": 2
}
